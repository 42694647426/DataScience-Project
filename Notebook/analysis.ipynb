{
 "cells": [
  {
   "cell_type": "code",
   "execution_count": 1,
   "source": [
    "from matplotlib import colors\r\n",
    "import pandas as pd\r\n",
    "import matplotlib.pyplot as plt\r\n",
    "\r\n",
    "def bar_graph(df: pd.DataFrame):\r\n",
    "\r\n",
    "    #df.groupby([\"Topic\", \"Sentiment\"]).count().unstack('Sentiment').plot.bar()\r\n",
    "    df_count = df\r\n",
    "    df_count.loc[df_count[\"Topic\"] == 'O', \"Topic\"] = \"Omicron\"\r\n",
    "    df_count.loc[df_count[\"Topic\"] == 'V', \"Topic\"] = \"Vaccine\"\r\n",
    "    df_count.loc[df_count[\"Topic\"] == 'N', \"Topic\"] = \"News\"\r\n",
    "    df_count.loc[df_count[\"Topic\"] == 'I', \"Topic\"] = \"Influence\"\r\n",
    "    df_count.loc[df_count[\"Topic\"] == 'P', \"Topic\"] = \"Opinion\"\r\n",
    "    df_count.loc[df_count[\"Sentiment\"] == 'P', \"Sentiment\"] = \"Positive\"\r\n",
    "    df_count.loc[df_count[\"Sentiment\"] == 'N', \"Sentiment\"] = \"Negative\"\r\n",
    "    df_count.loc[df_count[\"Sentiment\"] == 'E', \"Sentiment\"] = \"Neutral\"\r\n",
    "\r\n",
    "    df_count = df_count.groupby([\"Topic\", \"Sentiment\"])[\"Twitts\"].count()\r\n",
    "    print(df_count.head(5))\r\n",
    "    df_count.unstack(\"Sentiment\").plot.bar()\r\n",
    "    plt.title(\"Histogram of different topics and sentiments\")\r\n",
    "    plt.ylabel(\"Count\")\r\n",
    "    plt.xticks(rotation = 0)\r\n",
    "    plt.show()\r\n",
    "    \r\n",
    "\r\n"
   ],
   "outputs": [],
   "metadata": {}
  },
  {
   "cell_type": "code",
   "execution_count": 2,
   "source": [
    "if __name__ ==\"__main__\":\r\n",
    "    df = pd.read_csv(r'C:\\Users\\hshao4\\COMP598-Project\\data\\new_clear_twitts_anno.tsv',sep='\\t', encoding= 'unicode_escape')\r\n",
    "    bar_graph(df)"
   ],
   "outputs": [
    {
     "output_type": "stream",
     "name": "stdout",
     "text": [
      "Topic      Sentiment\n",
      "Influence  Negative     22\n",
      "           Neutral      15\n",
      "           Positive     18\n",
      "News       Negative      9\n",
      "           Neutral      43\n",
      "Name: Twitts, dtype: int64\n"
     ]
    },
    {
     "output_type": "display_data",
     "data": {
      "image/png": "[encoded data removed]",
      "text/plain": [
       "<Figure size 432x288 with 1 Axes>"
      ]
     },
     "metadata": {
      "needs_background": "light"
     }
    }
   ],
   "metadata": {}
  }
 ],
 "metadata": {
  "orig_nbformat": 4,
  "language_info": {
   "name": "python",
   "version": "3.9.7",
   "mimetype": "text/x-python",
   "codemirror_mode": {
    "name": "ipython",
    "version": 3
   },
   "pygments_lexer": "ipython3",
   "nbconvert_exporter": "python",
   "file_extension": ".py"
  },
  "kernelspec": {
   "name": "python3",
   "display_name": "Python 3.9.7 64-bit"
  },
  "interpreter": {
   "hash": "63fd5069d213b44bf678585dea6b12cceca9941eaf7f819626cde1f2670de90d"
  }
 },
 "nbformat": 4,
 "nbformat_minor": 2
}